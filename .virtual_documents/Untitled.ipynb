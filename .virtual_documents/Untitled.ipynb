# !pip install -q datasets


from datasets import load_dataset
import json


ds_section = load_dataset("ccdv/arxiv-summarization", "section", split='train')
ds_doc = load_dataset("ccdv/arxiv-summarization", "document", split='train')


ds_section, ds_doc


0



